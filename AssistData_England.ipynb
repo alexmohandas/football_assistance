{
 "cells": [
  {
   "cell_type": "markdown",
   "metadata": {
    "_cell_guid": "07f6ede4-5356-497d-85bc-99ebe998e9bf",
    "_uuid": "e3589baddb6671948ea1613bedeb6ddc52f1dd67"
   },
   "source": [
    "# Tactical Assist Analysis"
   ]
  },
  {
   "cell_type": "markdown",
   "metadata": {
    "_cell_guid": "1b616ad0-735e-4380-a114-1b3567ebda29",
    "_uuid": "ddcf87de5f5661780f9346a688bc9fe5e3b9923f"
   },
   "source": [
    "**In this script, we to use the datasets from https://www.kaggle.com/secareanualin/football-events/data to analyse tactical substitutions in soccer matches taken from European football league.**\n",
    "\n",
    "Below are the steps:\n",
    "\n",
    "-  **1. Importing libraries, modules, datasets**\n",
    "-  **2. Goals Scored Analysis**\n",
    "-  **3. Substitutions Analysis**\n",
    "-  **4. Categorize Substitutions as Positive or Negative**\n",
    "-  **5. Machine learning models to predict substitutions**"
   ]
  },
  {
   "cell_type": "markdown",
   "metadata": {
    "_cell_guid": "4ce8c976-9bdd-4678-b511-abd4f0612099",
    "_uuid": "9faf6f52bd46e1efa5aa01670d134e698d94a127"
   },
   "source": [
    "# 1. Importing libraries, modules and datasets for the analysis"
   ]
  },
  {
   "cell_type": "code",
   "execution_count": 1,
   "metadata": {
    "_cell_guid": "4e6b01f4-fac5-4bba-8b1d-3103218a560b",
    "_uuid": "93304a6bb7ae6377cb3999b6e454f89b6590a3b1",
    "jupyter": {
     "outputs_hidden": true
    }
   },
   "outputs": [],
   "source": [
    "%matplotlib inline \n",
    "import numpy as np \n",
    "import matplotlib.pyplot as plt\n",
    "import pandas as pd \n",
    "import seaborn as sns\n",
    "pd.set_option('display.width', 500)\n",
    "pd.set_option('display.max_columns', 100)\n",
    "pd.set_option('display.notebook_repr_html', True)\n",
    "sns.set(style=\"whitegrid\")\n",
    "import warnings\n",
    "warnings.filterwarnings('ignore')"
   ]
  },
  {
   "cell_type": "code",
   "execution_count": 2,
   "metadata": {
    "_cell_guid": "007f88e2-161a-4031-aa9b-e3f5154122d4",
    "_uuid": "87e0a91303500e5d733afeeec8520302fdd444ab",
    "jupyter": {
     "outputs_hidden": true
    }
   },
   "outputs": [],
   "source": [
    "events = pd.read_csv(\"input/events.csv\")\n",
    "game_info=pd.read_csv(\"input/ginf.csv\")"
   ]
  },
  {
   "cell_type": "code",
   "execution_count": 3,
   "metadata": {},
   "outputs": [
    {
     "data": {
      "text/html": [
       "<div>\n",
       "<style scoped>\n",
       "    .dataframe tbody tr th:only-of-type {\n",
       "        vertical-align: middle;\n",
       "    }\n",
       "\n",
       "    .dataframe tbody tr th {\n",
       "        vertical-align: top;\n",
       "    }\n",
       "\n",
       "    .dataframe thead th {\n",
       "        text-align: right;\n",
       "    }\n",
       "</style>\n",
       "<table border=\"1\" class=\"dataframe\">\n",
       "  <thead>\n",
       "    <tr style=\"text-align: right;\">\n",
       "      <th></th>\n",
       "      <th>id_odsp</th>\n",
       "      <th>id_event</th>\n",
       "      <th>sort_order</th>\n",
       "      <th>time</th>\n",
       "      <th>text</th>\n",
       "      <th>event_type</th>\n",
       "      <th>event_type2</th>\n",
       "      <th>side</th>\n",
       "      <th>event_team</th>\n",
       "      <th>opponent</th>\n",
       "      <th>player</th>\n",
       "      <th>player2</th>\n",
       "      <th>player_in</th>\n",
       "      <th>player_out</th>\n",
       "      <th>shot_place</th>\n",
       "      <th>shot_outcome</th>\n",
       "      <th>is_goal</th>\n",
       "      <th>location</th>\n",
       "      <th>bodypart</th>\n",
       "      <th>assist_method</th>\n",
       "      <th>situation</th>\n",
       "      <th>fast_break</th>\n",
       "      <th>country</th>\n",
       "      <th>date</th>\n",
       "    </tr>\n",
       "  </thead>\n",
       "  <tbody>\n",
       "    <tr>\n",
       "      <th>0</th>\n",
       "      <td>UFot0hit/</td>\n",
       "      <td>UFot0hit1</td>\n",
       "      <td>1</td>\n",
       "      <td>2</td>\n",
       "      <td>Attempt missed. Mladen Petric (Hamburg) left f...</td>\n",
       "      <td>1</td>\n",
       "      <td>12.0</td>\n",
       "      <td>2</td>\n",
       "      <td>Hamburg SV</td>\n",
       "      <td>Borussia Dortmund</td>\n",
       "      <td>mladen petric</td>\n",
       "      <td>gokhan tore</td>\n",
       "      <td>NaN</td>\n",
       "      <td>NaN</td>\n",
       "      <td>6.0</td>\n",
       "      <td>2.0</td>\n",
       "      <td>0</td>\n",
       "      <td>9.0</td>\n",
       "      <td>2.0</td>\n",
       "      <td>1</td>\n",
       "      <td>1.0</td>\n",
       "      <td>0</td>\n",
       "      <td>germany</td>\n",
       "      <td>05-08-2011</td>\n",
       "    </tr>\n",
       "    <tr>\n",
       "      <th>1</th>\n",
       "      <td>UFot0hit/</td>\n",
       "      <td>UFot0hit2</td>\n",
       "      <td>2</td>\n",
       "      <td>4</td>\n",
       "      <td>Corner,  Borussia Dortmund. Conceded by Dennis...</td>\n",
       "      <td>2</td>\n",
       "      <td>NaN</td>\n",
       "      <td>1</td>\n",
       "      <td>Borussia Dortmund</td>\n",
       "      <td>Hamburg SV</td>\n",
       "      <td>dennis diekmeier</td>\n",
       "      <td>dennis diekmeier</td>\n",
       "      <td>NaN</td>\n",
       "      <td>NaN</td>\n",
       "      <td>NaN</td>\n",
       "      <td>NaN</td>\n",
       "      <td>0</td>\n",
       "      <td>NaN</td>\n",
       "      <td>NaN</td>\n",
       "      <td>0</td>\n",
       "      <td>NaN</td>\n",
       "      <td>0</td>\n",
       "      <td>germany</td>\n",
       "      <td>05-08-2011</td>\n",
       "    </tr>\n",
       "    <tr>\n",
       "      <th>2</th>\n",
       "      <td>UFot0hit/</td>\n",
       "      <td>UFot0hit3</td>\n",
       "      <td>3</td>\n",
       "      <td>4</td>\n",
       "      <td>Corner,  Borussia Dortmund. Conceded by Heiko ...</td>\n",
       "      <td>2</td>\n",
       "      <td>NaN</td>\n",
       "      <td>1</td>\n",
       "      <td>Borussia Dortmund</td>\n",
       "      <td>Hamburg SV</td>\n",
       "      <td>heiko westermann</td>\n",
       "      <td>heiko westermann</td>\n",
       "      <td>NaN</td>\n",
       "      <td>NaN</td>\n",
       "      <td>NaN</td>\n",
       "      <td>NaN</td>\n",
       "      <td>0</td>\n",
       "      <td>NaN</td>\n",
       "      <td>NaN</td>\n",
       "      <td>0</td>\n",
       "      <td>NaN</td>\n",
       "      <td>0</td>\n",
       "      <td>germany</td>\n",
       "      <td>05-08-2011</td>\n",
       "    </tr>\n",
       "    <tr>\n",
       "      <th>3</th>\n",
       "      <td>UFot0hit/</td>\n",
       "      <td>UFot0hit4</td>\n",
       "      <td>4</td>\n",
       "      <td>7</td>\n",
       "      <td>Foul by Sven Bender (Borussia Dortmund).</td>\n",
       "      <td>3</td>\n",
       "      <td>NaN</td>\n",
       "      <td>1</td>\n",
       "      <td>Borussia Dortmund</td>\n",
       "      <td>Hamburg SV</td>\n",
       "      <td>sven bender</td>\n",
       "      <td>NaN</td>\n",
       "      <td>NaN</td>\n",
       "      <td>NaN</td>\n",
       "      <td>NaN</td>\n",
       "      <td>NaN</td>\n",
       "      <td>0</td>\n",
       "      <td>NaN</td>\n",
       "      <td>NaN</td>\n",
       "      <td>0</td>\n",
       "      <td>NaN</td>\n",
       "      <td>0</td>\n",
       "      <td>germany</td>\n",
       "      <td>05-08-2011</td>\n",
       "    </tr>\n",
       "    <tr>\n",
       "      <th>4</th>\n",
       "      <td>UFot0hit/</td>\n",
       "      <td>UFot0hit5</td>\n",
       "      <td>5</td>\n",
       "      <td>7</td>\n",
       "      <td>Gokhan Tore (Hamburg) wins a free kick in the ...</td>\n",
       "      <td>8</td>\n",
       "      <td>NaN</td>\n",
       "      <td>2</td>\n",
       "      <td>Hamburg SV</td>\n",
       "      <td>Borussia Dortmund</td>\n",
       "      <td>gokhan tore</td>\n",
       "      <td>NaN</td>\n",
       "      <td>NaN</td>\n",
       "      <td>NaN</td>\n",
       "      <td>NaN</td>\n",
       "      <td>NaN</td>\n",
       "      <td>0</td>\n",
       "      <td>2.0</td>\n",
       "      <td>NaN</td>\n",
       "      <td>0</td>\n",
       "      <td>NaN</td>\n",
       "      <td>0</td>\n",
       "      <td>germany</td>\n",
       "      <td>05-08-2011</td>\n",
       "    </tr>\n",
       "  </tbody>\n",
       "</table>\n",
       "</div>"
      ],
      "text/plain": [
       "     id_odsp   id_event  sort_order  time                                               text  event_type  event_type2  side         event_team           opponent            player           player2 player_in player_out  shot_place  shot_outcome  is_goal  location  bodypart  assist_method  situation  fast_break  country        date\n",
       "0  UFot0hit/  UFot0hit1           1     2  Attempt missed. Mladen Petric (Hamburg) left f...           1         12.0     2         Hamburg SV  Borussia Dortmund     mladen petric       gokhan tore       NaN        NaN         6.0           2.0        0       9.0       2.0              1        1.0           0  germany  05-08-2011\n",
       "1  UFot0hit/  UFot0hit2           2     4  Corner,  Borussia Dortmund. Conceded by Dennis...           2          NaN     1  Borussia Dortmund         Hamburg SV  dennis diekmeier  dennis diekmeier       NaN        NaN         NaN           NaN        0       NaN       NaN              0        NaN           0  germany  05-08-2011\n",
       "2  UFot0hit/  UFot0hit3           3     4  Corner,  Borussia Dortmund. Conceded by Heiko ...           2          NaN     1  Borussia Dortmund         Hamburg SV  heiko westermann  heiko westermann       NaN        NaN         NaN           NaN        0       NaN       NaN              0        NaN           0  germany  05-08-2011\n",
       "3  UFot0hit/  UFot0hit4           4     7           Foul by Sven Bender (Borussia Dortmund).           3          NaN     1  Borussia Dortmund         Hamburg SV       sven bender               NaN       NaN        NaN         NaN           NaN        0       NaN       NaN              0        NaN           0  germany  05-08-2011\n",
       "4  UFot0hit/  UFot0hit5           5     7  Gokhan Tore (Hamburg) wins a free kick in the ...           8          NaN     2         Hamburg SV  Borussia Dortmund       gokhan tore               NaN       NaN        NaN         NaN           NaN        0       2.0       NaN              0        NaN           0  germany  05-08-2011"
      ]
     },
     "execution_count": 3,
     "metadata": {},
     "output_type": "execute_result"
    }
   ],
   "source": [
    "events = events.merge(game_info[['id_odsp', 'country', 'date']], on='id_odsp', how='left')\n",
    "events.head()"
   ]
  },
  {
   "cell_type": "code",
   "execution_count": 4,
   "metadata": {
    "_cell_guid": "11a1c063-64b1-4441-9867-432374b00369",
    "_uuid": "49ec840742a1a4285eaa470881b44f4bae8ecb00",
    "jupyter": {
     "outputs_hidden": true
    },
    "scrolled": true
   },
   "outputs": [
    {
     "name": "stdout",
     "output_type": "stream",
     "text": [
      "<class 'pandas.core.frame.DataFrame'>\n",
      "Int64Index: 941009 entries, 0 to 941008\n",
      "Data columns (total 24 columns):\n",
      " #   Column         Non-Null Count   Dtype  \n",
      "---  ------         --------------   -----  \n",
      " 0   id_odsp        941009 non-null  object \n",
      " 1   id_event       941009 non-null  object \n",
      " 2   sort_order     941009 non-null  int64  \n",
      " 3   time           941009 non-null  int64  \n",
      " 4   text           941009 non-null  object \n",
      " 5   event_type     941009 non-null  int64  \n",
      " 6   event_type2    214293 non-null  float64\n",
      " 7   side           941009 non-null  int64  \n",
      " 8   event_team     941009 non-null  object \n",
      " 9   opponent       941009 non-null  object \n",
      " 10  player         880009 non-null  object \n",
      " 11  player2        291310 non-null  object \n",
      " 12  player_in      51715 non-null   object \n",
      " 13  player_out     51738 non-null   object \n",
      " 14  shot_place     227459 non-null  float64\n",
      " 15  shot_outcome   228498 non-null  float64\n",
      " 16  is_goal        941009 non-null  int64  \n",
      " 17  location       467067 non-null  float64\n",
      " 18  bodypart       229185 non-null  float64\n",
      " 19  assist_method  941009 non-null  int64  \n",
      " 20  situation      229137 non-null  float64\n",
      " 21  fast_break     941009 non-null  int64  \n",
      " 22  country        941009 non-null  object \n",
      " 23  date           941009 non-null  object \n",
      "dtypes: float64(6), int64(7), object(11)\n",
      "memory usage: 179.5+ MB\n"
     ]
    }
   ],
   "source": [
    "events.info()"
   ]
  },
  {
   "cell_type": "markdown",
   "metadata": {
    "_cell_guid": "4a28b10d-f585-4d03-b213-60d3ec4be360",
    "_uuid": "742b1af0a6d11bd54da287de5a194ebc409a0c1d"
   },
   "source": [
    "**Encoding the variables**"
   ]
  },
  {
   "cell_type": "code",
   "execution_count": 5,
   "metadata": {
    "_cell_guid": "9ea63e8a-7a11-45aa-a8cc-c4e960050755",
    "_uuid": "be9be71d575e13c21b73435b65def63680bf57a8",
    "jupyter": {
     "outputs_hidden": true
    }
   },
   "outputs": [],
   "source": [
    "encoding = pd.read_table('input/dictionary.txt', delim_whitespace=False, names=('num','events'))\n",
    "event_type=encoding[1:13]\n",
    "event_type_2=encoding[14:18]"
   ]
  },
  {
   "cell_type": "code",
   "execution_count": 6,
   "metadata": {
    "_cell_guid": "c29ddd7f-1b49-4293-a4c3-051823c6b88c",
    "_uuid": "5ae50599a03493fb79c9f9e15b4a67849cb8087f",
    "jupyter": {
     "outputs_hidden": true
    }
   },
   "outputs": [
    {
     "data": {
      "text/html": [
       "<div>\n",
       "<style scoped>\n",
       "    .dataframe tbody tr th:only-of-type {\n",
       "        vertical-align: middle;\n",
       "    }\n",
       "\n",
       "    .dataframe tbody tr th {\n",
       "        vertical-align: top;\n",
       "    }\n",
       "\n",
       "    .dataframe thead th {\n",
       "        text-align: right;\n",
       "    }\n",
       "</style>\n",
       "<table border=\"1\" class=\"dataframe\">\n",
       "  <thead>\n",
       "    <tr style=\"text-align: right;\">\n",
       "      <th></th>\n",
       "      <th>num</th>\n",
       "      <th>events</th>\n",
       "    </tr>\n",
       "  </thead>\n",
       "  <tbody>\n",
       "    <tr>\n",
       "      <th>1</th>\n",
       "      <td>0</td>\n",
       "      <td>Announcement</td>\n",
       "    </tr>\n",
       "    <tr>\n",
       "      <th>2</th>\n",
       "      <td>1</td>\n",
       "      <td>Attempt</td>\n",
       "    </tr>\n",
       "    <tr>\n",
       "      <th>3</th>\n",
       "      <td>2</td>\n",
       "      <td>Corner</td>\n",
       "    </tr>\n",
       "    <tr>\n",
       "      <th>4</th>\n",
       "      <td>3</td>\n",
       "      <td>Foul</td>\n",
       "    </tr>\n",
       "    <tr>\n",
       "      <th>5</th>\n",
       "      <td>4</td>\n",
       "      <td>Yellow card</td>\n",
       "    </tr>\n",
       "    <tr>\n",
       "      <th>6</th>\n",
       "      <td>5</td>\n",
       "      <td>Second yellow card</td>\n",
       "    </tr>\n",
       "    <tr>\n",
       "      <th>7</th>\n",
       "      <td>6</td>\n",
       "      <td>Red card</td>\n",
       "    </tr>\n",
       "    <tr>\n",
       "      <th>8</th>\n",
       "      <td>7</td>\n",
       "      <td>Substitution</td>\n",
       "    </tr>\n",
       "    <tr>\n",
       "      <th>9</th>\n",
       "      <td>8</td>\n",
       "      <td>Free kick won</td>\n",
       "    </tr>\n",
       "    <tr>\n",
       "      <th>10</th>\n",
       "      <td>9</td>\n",
       "      <td>Offside</td>\n",
       "    </tr>\n",
       "    <tr>\n",
       "      <th>11</th>\n",
       "      <td>10</td>\n",
       "      <td>Hand ball</td>\n",
       "    </tr>\n",
       "    <tr>\n",
       "      <th>12</th>\n",
       "      <td>11</td>\n",
       "      <td>Penalty conceded</td>\n",
       "    </tr>\n",
       "  </tbody>\n",
       "</table>\n",
       "</div>"
      ],
      "text/plain": [
       "   num              events\n",
       "1    0        Announcement\n",
       "2    1             Attempt\n",
       "3    2              Corner\n",
       "4    3                Foul\n",
       "5    4         Yellow card\n",
       "6    5  Second yellow card\n",
       "7    6            Red card\n",
       "8    7        Substitution\n",
       "9    8       Free kick won\n",
       "10   9             Offside\n",
       "11  10           Hand ball\n",
       "12  11    Penalty conceded"
      ]
     },
     "execution_count": 6,
     "metadata": {},
     "output_type": "execute_result"
    }
   ],
   "source": [
    "event_type"
   ]
  },
  {
   "cell_type": "markdown",
   "metadata": {
    "_cell_guid": "928cec5f-5560-4193-bb48-c8e76e647f5d",
    "_uuid": "35f019b779218d57ce761645b62cea28254756e5"
   },
   "source": [
    "# 2.  Assists Analysis"
   ]
  },
  {
   "cell_type": "code",
   "execution_count": 7,
   "metadata": {
    "_cell_guid": "50c5049c-5ba6-40e2-8037-0a9597daba1e",
    "_uuid": "ed5898df3764bf4260072e9334e5214fd3ca336d",
    "jupyter": {
     "outputs_hidden": true
    }
   },
   "outputs": [],
   "source": [
    "events = events[events['country'] == 'england']\n",
    "assists=events[events[\"event_type\"]==1]"
   ]
  },
  {
   "cell_type": "markdown",
   "metadata": {
    "_cell_guid": "9386abc0-3993-4cfd-bf2b-e9db9099d929",
    "_uuid": "8e7d525852f4c0d28d19b3c79ef58b6ee358e9c2"
   },
   "source": [
    "**Analysing assists against Time**"
   ]
  },
  {
   "cell_type": "code",
   "execution_count": 8,
   "metadata": {
    "_cell_guid": "e33b0671-a3f1-4836-8289-1c692a4e15f1",
    "_uuid": "24457aaa9d62a06ca2a5292dedab35dca6335f8d",
    "jupyter": {
     "outputs_hidden": true
    }
   },
   "outputs": [
    {
     "data": {
      "text/plain": [
       "Text(0.5, 1.0, 'Number of assists Vs Time of match')"
      ]
     },
     "execution_count": 8,
     "metadata": {},
     "output_type": "execute_result"
    },
    {
     "data": {
      "image/png": "[encoded data removed]",
      "text/plain": [
       "<Figure size 720x432 with 1 Axes>"
      ]
     },
     "metadata": {},
     "output_type": "display_data"
    }
   ],
   "source": [
    "fig=plt.figure(figsize=(10,6))\n",
    "#plt.hist(goals.time,width=1,bins=100,color=\"blue\")   #100 so 1 bar per minute\n",
    "plt.hist(assists.time,width=1,bins=100,color=\"blue\")   #100 so 1 bar per minute\n",
    "plt.xlabel(\"Match time in Minutes\")\n",
    "plt.ylabel(\"Number of assists\")\n",
    "plt.title(\"Number of assists Vs Time of match\")"
   ]
  },
  {
   "cell_type": "markdown",
   "metadata": {},
   "source": [
    "# 4. Categorize Assists as Positive or Negative"
   ]
  },
  {
   "cell_type": "markdown",
   "metadata": {},
   "source": [
    "**merge player names to make partnerships and start analysis**"
   ]
  },
  {
   "cell_type": "code",
   "execution_count": 9,
   "metadata": {},
   "outputs": [
    {
     "data": {
      "text/html": [
       "<div>\n",
       "<style scoped>\n",
       "    .dataframe tbody tr th:only-of-type {\n",
       "        vertical-align: middle;\n",
       "    }\n",
       "\n",
       "    .dataframe tbody tr th {\n",
       "        vertical-align: top;\n",
       "    }\n",
       "\n",
       "    .dataframe thead th {\n",
       "        text-align: right;\n",
       "    }\n",
       "</style>\n",
       "<table border=\"1\" class=\"dataframe\">\n",
       "  <thead>\n",
       "    <tr style=\"text-align: right;\">\n",
       "      <th></th>\n",
       "      <th>id_odsp</th>\n",
       "      <th>id_event</th>\n",
       "      <th>sort_order</th>\n",
       "      <th>time</th>\n",
       "      <th>text</th>\n",
       "      <th>event_type</th>\n",
       "      <th>event_type2</th>\n",
       "      <th>side</th>\n",
       "      <th>event_team</th>\n",
       "      <th>opponent</th>\n",
       "      <th>player</th>\n",
       "      <th>player2</th>\n",
       "      <th>player_in</th>\n",
       "      <th>player_out</th>\n",
       "      <th>shot_place</th>\n",
       "      <th>shot_outcome</th>\n",
       "      <th>is_goal</th>\n",
       "      <th>location</th>\n",
       "      <th>bodypart</th>\n",
       "      <th>assist_method</th>\n",
       "      <th>situation</th>\n",
       "      <th>fast_break</th>\n",
       "      <th>country</th>\n",
       "      <th>date</th>\n",
       "      <th>player_pair_sorted</th>\n",
       "    </tr>\n",
       "  </thead>\n",
       "  <tbody>\n",
       "    <tr>\n",
       "      <th>330967</th>\n",
       "      <td>foAjBseC/</td>\n",
       "      <td>foAjBseC4</td>\n",
       "      <td>4</td>\n",
       "      <td>5</td>\n",
       "      <td>Attempt blocked. Libor Kozak (Aston Villa) rig...</td>\n",
       "      <td>1</td>\n",
       "      <td>12.0</td>\n",
       "      <td>2</td>\n",
       "      <td>Aston Villa</td>\n",
       "      <td>Hull</td>\n",
       "      <td>libor kozak</td>\n",
       "      <td>gabriel agbonlahor</td>\n",
       "      <td>NaN</td>\n",
       "      <td>NaN</td>\n",
       "      <td>2.0</td>\n",
       "      <td>3.0</td>\n",
       "      <td>0</td>\n",
       "      <td>15.0</td>\n",
       "      <td>1.0</td>\n",
       "      <td>1</td>\n",
       "      <td>1.0</td>\n",
       "      <td>0</td>\n",
       "      <td>england</td>\n",
       "      <td>05-10-2013</td>\n",
       "      <td>gabriel agbonlahor-libor kozak</td>\n",
       "    </tr>\n",
       "    <tr>\n",
       "      <th>330970</th>\n",
       "      <td>foAjBseC/</td>\n",
       "      <td>foAjBseC7</td>\n",
       "      <td>7</td>\n",
       "      <td>9</td>\n",
       "      <td>Attempt blocked. Gabriel Agbonlahor (Aston Vil...</td>\n",
       "      <td>1</td>\n",
       "      <td>12.0</td>\n",
       "      <td>2</td>\n",
       "      <td>Aston Villa</td>\n",
       "      <td>Hull</td>\n",
       "      <td>gabriel agbonlahor</td>\n",
       "      <td>fabian delph</td>\n",
       "      <td>NaN</td>\n",
       "      <td>NaN</td>\n",
       "      <td>2.0</td>\n",
       "      <td>3.0</td>\n",
       "      <td>0</td>\n",
       "      <td>15.0</td>\n",
       "      <td>2.0</td>\n",
       "      <td>1</td>\n",
       "      <td>1.0</td>\n",
       "      <td>0</td>\n",
       "      <td>england</td>\n",
       "      <td>05-10-2013</td>\n",
       "      <td>fabian delph-gabriel agbonlahor</td>\n",
       "    </tr>\n",
       "    <tr>\n",
       "      <th>330973</th>\n",
       "      <td>foAjBseC/</td>\n",
       "      <td>foAjBseC10</td>\n",
       "      <td>10</td>\n",
       "      <td>13</td>\n",
       "      <td>Attempt missed. Gabriel Agbonlahor (Aston Vill...</td>\n",
       "      <td>1</td>\n",
       "      <td>12.0</td>\n",
       "      <td>2</td>\n",
       "      <td>Aston Villa</td>\n",
       "      <td>Hull</td>\n",
       "      <td>gabriel agbonlahor</td>\n",
       "      <td>karim el ahmadi</td>\n",
       "      <td>NaN</td>\n",
       "      <td>NaN</td>\n",
       "      <td>6.0</td>\n",
       "      <td>2.0</td>\n",
       "      <td>0</td>\n",
       "      <td>15.0</td>\n",
       "      <td>1.0</td>\n",
       "      <td>1</td>\n",
       "      <td>1.0</td>\n",
       "      <td>0</td>\n",
       "      <td>england</td>\n",
       "      <td>05-10-2013</td>\n",
       "      <td>gabriel agbonlahor-karim el ahmadi</td>\n",
       "    </tr>\n",
       "    <tr>\n",
       "      <th>330978</th>\n",
       "      <td>foAjBseC/</td>\n",
       "      <td>foAjBseC15</td>\n",
       "      <td>15</td>\n",
       "      <td>18</td>\n",
       "      <td>Attempt missed. Danny Graham (Hull City) left ...</td>\n",
       "      <td>1</td>\n",
       "      <td>12.0</td>\n",
       "      <td>1</td>\n",
       "      <td>Hull</td>\n",
       "      <td>Aston Villa</td>\n",
       "      <td>danny graham</td>\n",
       "      <td>ahmed elmohamady</td>\n",
       "      <td>NaN</td>\n",
       "      <td>NaN</td>\n",
       "      <td>8.0</td>\n",
       "      <td>2.0</td>\n",
       "      <td>0</td>\n",
       "      <td>3.0</td>\n",
       "      <td>2.0</td>\n",
       "      <td>2</td>\n",
       "      <td>1.0</td>\n",
       "      <td>0</td>\n",
       "      <td>england</td>\n",
       "      <td>05-10-2013</td>\n",
       "      <td>ahmed elmohamady-danny graham</td>\n",
       "    </tr>\n",
       "    <tr>\n",
       "      <th>330979</th>\n",
       "      <td>foAjBseC/</td>\n",
       "      <td>foAjBseC16</td>\n",
       "      <td>16</td>\n",
       "      <td>20</td>\n",
       "      <td>Attempt saved. Gabriel Agbonlahor (Aston Villa...</td>\n",
       "      <td>1</td>\n",
       "      <td>12.0</td>\n",
       "      <td>2</td>\n",
       "      <td>Aston Villa</td>\n",
       "      <td>Hull</td>\n",
       "      <td>gabriel agbonlahor</td>\n",
       "      <td>andreas weimann</td>\n",
       "      <td>NaN</td>\n",
       "      <td>NaN</td>\n",
       "      <td>4.0</td>\n",
       "      <td>1.0</td>\n",
       "      <td>0</td>\n",
       "      <td>3.0</td>\n",
       "      <td>2.0</td>\n",
       "      <td>1</td>\n",
       "      <td>1.0</td>\n",
       "      <td>0</td>\n",
       "      <td>england</td>\n",
       "      <td>05-10-2013</td>\n",
       "      <td>andreas weimann-gabriel agbonlahor</td>\n",
       "    </tr>\n",
       "  </tbody>\n",
       "</table>\n",
       "</div>"
      ],
      "text/plain": [
       "          id_odsp    id_event  sort_order  time                                               text  event_type  event_type2  side   event_team     opponent              player             player2 player_in player_out  shot_place  shot_outcome  is_goal  location  bodypart  assist_method  situation  fast_break  country        date                  player_pair_sorted\n",
       "330967  foAjBseC/   foAjBseC4           4     5  Attempt blocked. Libor Kozak (Aston Villa) rig...           1         12.0     2  Aston Villa         Hull         libor kozak  gabriel agbonlahor       NaN        NaN         2.0           3.0        0      15.0       1.0              1        1.0           0  england  05-10-2013      gabriel agbonlahor-libor kozak\n",
       "330970  foAjBseC/   foAjBseC7           7     9  Attempt blocked. Gabriel Agbonlahor (Aston Vil...           1         12.0     2  Aston Villa         Hull  gabriel agbonlahor        fabian delph       NaN        NaN         2.0           3.0        0      15.0       2.0              1        1.0           0  england  05-10-2013     fabian delph-gabriel agbonlahor\n",
       "330973  foAjBseC/  foAjBseC10          10    13  Attempt missed. Gabriel Agbonlahor (Aston Vill...           1         12.0     2  Aston Villa         Hull  gabriel agbonlahor     karim el ahmadi       NaN        NaN         6.0           2.0        0      15.0       1.0              1        1.0           0  england  05-10-2013  gabriel agbonlahor-karim el ahmadi\n",
       "330978  foAjBseC/  foAjBseC15          15    18  Attempt missed. Danny Graham (Hull City) left ...           1         12.0     1         Hull  Aston Villa        danny graham    ahmed elmohamady       NaN        NaN         8.0           2.0        0       3.0       2.0              2        1.0           0  england  05-10-2013       ahmed elmohamady-danny graham\n",
       "330979  foAjBseC/  foAjBseC16          16    20  Attempt saved. Gabriel Agbonlahor (Aston Villa...           1         12.0     2  Aston Villa         Hull  gabriel agbonlahor     andreas weimann       NaN        NaN         4.0           1.0        0       3.0       2.0              1        1.0           0  england  05-10-2013  andreas weimann-gabriel agbonlahor"
      ]
     },
     "execution_count": 9,
     "metadata": {},
     "output_type": "execute_result"
    }
   ],
   "source": [
    "import math\n",
    "import itertools\n",
    "assists=events[events[\"event_type\"]==1]\n",
    "assists = assists.dropna(subset=['player','player2'])\n",
    "assists['player_pair_sorted'] = assists.apply(lambda row: '-'.join(sorted([str(row['player']), str(row['player2'])])), axis=1)\n",
    "assists.head()"
   ]
  },
  {
   "cell_type": "code",
   "execution_count": 10,
   "metadata": {},
   "outputs": [],
   "source": [
    "#Use Label Encoder module to change the string (player names, team names) to labels/numbers\n",
    "from sklearn.preprocessing import LabelEncoder\n",
    "def df_encoder(df):\n",
    "    columnsToEncode = list(df.select_dtypes(include=['category','object']))\n",
    "    label_encoder = LabelEncoder()\n",
    "    for feature in columnsToEncode:\n",
    "        try:\n",
    "            df[feature] = label_encoder.fit_transform(df[feature])\n",
    "        except:\n",
    "            print('Unable to encode :', feature)\n",
    "    return df"
   ]
  },
  {
   "cell_type": "code",
   "execution_count": 11,
   "metadata": {},
   "outputs": [
    {
     "name": "stdout",
     "output_type": "stream",
     "text": [
      "          id_odsp    id_event  sort_order  time                                               text  event_type  event_type2  side   event_team     opponent              player             player2 player_in player_out  shot_place  shot_outcome  is_goal  location  bodypart  assist_method  situation  fast_break  country        date                  player_pair_sorted\n",
      "330967  foAjBseC/   foAjBseC4           4     5  Attempt blocked. Libor Kozak (Aston Villa) rig...           1         12.0     2  Aston Villa         Hull         libor kozak  gabriel agbonlahor       NaN        NaN         2.0           3.0        0      15.0       1.0              1        1.0           0  england  05-10-2013      gabriel agbonlahor-libor kozak\n",
      "330970  foAjBseC/   foAjBseC7           7     9  Attempt blocked. Gabriel Agbonlahor (Aston Vil...           1         12.0     2  Aston Villa         Hull  gabriel agbonlahor        fabian delph       NaN        NaN         2.0           3.0        0      15.0       2.0              1        1.0           0  england  05-10-2013     fabian delph-gabriel agbonlahor\n",
      "330973  foAjBseC/  foAjBseC10          10    13  Attempt missed. Gabriel Agbonlahor (Aston Vill...           1         12.0     2  Aston Villa         Hull  gabriel agbonlahor     karim el ahmadi       NaN        NaN         6.0           2.0        0      15.0       1.0              1        1.0           0  england  05-10-2013  gabriel agbonlahor-karim el ahmadi\n",
      "330978  foAjBseC/  foAjBseC15          15    18  Attempt missed. Danny Graham (Hull City) left ...           1         12.0     1         Hull  Aston Villa        danny graham    ahmed elmohamady       NaN        NaN         8.0           2.0        0       3.0       2.0              2        1.0           0  england  05-10-2013       ahmed elmohamady-danny graham\n",
      "330979  foAjBseC/  foAjBseC16          16    20  Attempt saved. Gabriel Agbonlahor (Aston Villa...           1         12.0     2  Aston Villa         Hull  gabriel agbonlahor     andreas weimann       NaN        NaN         4.0           1.0        0       3.0       2.0              1        1.0           0  england  05-10-2013  andreas weimann-gabriel agbonlahor\n"
     ]
    }
   ],
   "source": [
    "\n",
    "print(assists.head())\n",
    "#assists.to_csv('assists_full.csv', index=False)\n",
    "\n",
    "#labeled_assist = df_encoder(assists)\n",
    "#print(labeled_assist.head())\n",
    "\n",
    "#fig=plt.figure(figsize=(20,9))\n",
    "#plt.hist(labeled_assist.player_pair,width=1,bins=100,color=\"blue\")   \n",
    "#plt.hist(labeled_assist.player_pair,bins=598,color=\"blue\")   \n",
    "#plt.xlabel(\"Player pair info\")\n",
    "#plt.ylabel(\"Number of attempts\")\n",
    "#plt.title(\"Number of attempts Vs player pair details\")"
   ]
  },
  {
   "cell_type": "code",
   "execution_count": 12,
   "metadata": {},
   "outputs": [
    {
     "data": {
      "text/plain": [
       "mesut ozil-olivier giroud        78\n",
       "alexis sanchez-mesut ozil        75\n",
       "david silva-sergio aguero        75\n",
       "christian eriksen-harry kane     73\n",
       "romelu lukaku-ross barkley       72\n",
       "                                 ..\n",
       "glen johnson-xherdan shaqiri     11\n",
       "james collins-stewart downing    11\n",
       "geoff cameron-peter crouch       11\n",
       "james milner-yaya toure          11\n",
       "hector bellerin-theo walcott     11\n",
       "Name: player_pair_sorted, Length: 496, dtype: int64"
      ]
     },
     "execution_count": 12,
     "metadata": {},
     "output_type": "execute_result"
    }
   ],
   "source": [
    "assists['player_pair_sorted'].value_counts()[assists['player_pair_sorted'].value_counts() > 10]"
   ]
  },
  {
   "cell_type": "code",
   "execution_count": 13,
   "metadata": {},
   "outputs": [
    {
     "data": {
      "text/plain": [
       "mesut ozil-olivier giroud           78\n",
       "alexis sanchez-mesut ozil           75\n",
       "david silva-sergio aguero           75\n",
       "christian eriksen-harry kane        73\n",
       "romelu lukaku-ross barkley          72\n",
       "                                    ..\n",
       "sascha riether-scott parker          1\n",
       "alberto moreno-martin skrtel         1\n",
       "danny ings-nathaniel clyne           1\n",
       "hugo rodallega-kieran richardson     1\n",
       "oumar niasse-sam clucas              1\n",
       "Name: player_pair_sorted, Length: 6255, dtype: int64"
      ]
     },
     "execution_count": 13,
     "metadata": {},
     "output_type": "execute_result"
    }
   ],
   "source": [
    "assists['player_pair_sorted'].value_counts()"
   ]
  },
  {
   "cell_type": "code",
   "execution_count": 14,
   "metadata": {},
   "outputs": [],
   "source": [
    "assists['player_pair_count'] = assists.groupby('player_pair_sorted')['player_pair_sorted'].transform('count')"
   ]
  },
  {
   "cell_type": "code",
   "execution_count": 15,
   "metadata": {},
   "outputs": [
    {
     "data": {
      "text/html": [
       "<div>\n",
       "<style scoped>\n",
       "    .dataframe tbody tr th:only-of-type {\n",
       "        vertical-align: middle;\n",
       "    }\n",
       "\n",
       "    .dataframe tbody tr th {\n",
       "        vertical-align: top;\n",
       "    }\n",
       "\n",
       "    .dataframe thead th {\n",
       "        text-align: right;\n",
       "    }\n",
       "</style>\n",
       "<table border=\"1\" class=\"dataframe\">\n",
       "  <thead>\n",
       "    <tr style=\"text-align: right;\">\n",
       "      <th></th>\n",
       "      <th>id_odsp</th>\n",
       "      <th>id_event</th>\n",
       "      <th>sort_order</th>\n",
       "      <th>time</th>\n",
       "      <th>text</th>\n",
       "      <th>event_type</th>\n",
       "      <th>event_type2</th>\n",
       "      <th>side</th>\n",
       "      <th>event_team</th>\n",
       "      <th>opponent</th>\n",
       "      <th>player</th>\n",
       "      <th>player2</th>\n",
       "      <th>player_in</th>\n",
       "      <th>player_out</th>\n",
       "      <th>shot_place</th>\n",
       "      <th>shot_outcome</th>\n",
       "      <th>is_goal</th>\n",
       "      <th>location</th>\n",
       "      <th>bodypart</th>\n",
       "      <th>assist_method</th>\n",
       "      <th>situation</th>\n",
       "      <th>fast_break</th>\n",
       "      <th>country</th>\n",
       "      <th>date</th>\n",
       "      <th>player_pair_sorted</th>\n",
       "      <th>player_pair_count</th>\n",
       "      <th>positive_assist</th>\n",
       "    </tr>\n",
       "  </thead>\n",
       "  <tbody>\n",
       "    <tr>\n",
       "      <th>330967</th>\n",
       "      <td>foAjBseC/</td>\n",
       "      <td>foAjBseC4</td>\n",
       "      <td>4</td>\n",
       "      <td>5</td>\n",
       "      <td>Attempt blocked. Libor Kozak (Aston Villa) rig...</td>\n",
       "      <td>1</td>\n",
       "      <td>12.0</td>\n",
       "      <td>2</td>\n",
       "      <td>Aston Villa</td>\n",
       "      <td>Hull</td>\n",
       "      <td>libor kozak</td>\n",
       "      <td>gabriel agbonlahor</td>\n",
       "      <td>NaN</td>\n",
       "      <td>NaN</td>\n",
       "      <td>2.0</td>\n",
       "      <td>3.0</td>\n",
       "      <td>0</td>\n",
       "      <td>15.0</td>\n",
       "      <td>1.0</td>\n",
       "      <td>1</td>\n",
       "      <td>1.0</td>\n",
       "      <td>0</td>\n",
       "      <td>england</td>\n",
       "      <td>05-10-2013</td>\n",
       "      <td>gabriel agbonlahor-libor kozak</td>\n",
       "      <td>2</td>\n",
       "      <td>0</td>\n",
       "    </tr>\n",
       "    <tr>\n",
       "      <th>330970</th>\n",
       "      <td>foAjBseC/</td>\n",
       "      <td>foAjBseC7</td>\n",
       "      <td>7</td>\n",
       "      <td>9</td>\n",
       "      <td>Attempt blocked. Gabriel Agbonlahor (Aston Vil...</td>\n",
       "      <td>1</td>\n",
       "      <td>12.0</td>\n",
       "      <td>2</td>\n",
       "      <td>Aston Villa</td>\n",
       "      <td>Hull</td>\n",
       "      <td>gabriel agbonlahor</td>\n",
       "      <td>fabian delph</td>\n",
       "      <td>NaN</td>\n",
       "      <td>NaN</td>\n",
       "      <td>2.0</td>\n",
       "      <td>3.0</td>\n",
       "      <td>0</td>\n",
       "      <td>15.0</td>\n",
       "      <td>2.0</td>\n",
       "      <td>1</td>\n",
       "      <td>1.0</td>\n",
       "      <td>0</td>\n",
       "      <td>england</td>\n",
       "      <td>05-10-2013</td>\n",
       "      <td>fabian delph-gabriel agbonlahor</td>\n",
       "      <td>19</td>\n",
       "      <td>1</td>\n",
       "    </tr>\n",
       "    <tr>\n",
       "      <th>330973</th>\n",
       "      <td>foAjBseC/</td>\n",
       "      <td>foAjBseC10</td>\n",
       "      <td>10</td>\n",
       "      <td>13</td>\n",
       "      <td>Attempt missed. Gabriel Agbonlahor (Aston Vill...</td>\n",
       "      <td>1</td>\n",
       "      <td>12.0</td>\n",
       "      <td>2</td>\n",
       "      <td>Aston Villa</td>\n",
       "      <td>Hull</td>\n",
       "      <td>gabriel agbonlahor</td>\n",
       "      <td>karim el ahmadi</td>\n",
       "      <td>NaN</td>\n",
       "      <td>NaN</td>\n",
       "      <td>6.0</td>\n",
       "      <td>2.0</td>\n",
       "      <td>0</td>\n",
       "      <td>15.0</td>\n",
       "      <td>1.0</td>\n",
       "      <td>1</td>\n",
       "      <td>1.0</td>\n",
       "      <td>0</td>\n",
       "      <td>england</td>\n",
       "      <td>05-10-2013</td>\n",
       "      <td>gabriel agbonlahor-karim el ahmadi</td>\n",
       "      <td>6</td>\n",
       "      <td>1</td>\n",
       "    </tr>\n",
       "    <tr>\n",
       "      <th>330978</th>\n",
       "      <td>foAjBseC/</td>\n",
       "      <td>foAjBseC15</td>\n",
       "      <td>15</td>\n",
       "      <td>18</td>\n",
       "      <td>Attempt missed. Danny Graham (Hull City) left ...</td>\n",
       "      <td>1</td>\n",
       "      <td>12.0</td>\n",
       "      <td>1</td>\n",
       "      <td>Hull</td>\n",
       "      <td>Aston Villa</td>\n",
       "      <td>danny graham</td>\n",
       "      <td>ahmed elmohamady</td>\n",
       "      <td>NaN</td>\n",
       "      <td>NaN</td>\n",
       "      <td>8.0</td>\n",
       "      <td>2.0</td>\n",
       "      <td>0</td>\n",
       "      <td>3.0</td>\n",
       "      <td>2.0</td>\n",
       "      <td>2</td>\n",
       "      <td>1.0</td>\n",
       "      <td>0</td>\n",
       "      <td>england</td>\n",
       "      <td>05-10-2013</td>\n",
       "      <td>ahmed elmohamady-danny graham</td>\n",
       "      <td>3</td>\n",
       "      <td>0</td>\n",
       "    </tr>\n",
       "    <tr>\n",
       "      <th>330979</th>\n",
       "      <td>foAjBseC/</td>\n",
       "      <td>foAjBseC16</td>\n",
       "      <td>16</td>\n",
       "      <td>20</td>\n",
       "      <td>Attempt saved. Gabriel Agbonlahor (Aston Villa...</td>\n",
       "      <td>1</td>\n",
       "      <td>12.0</td>\n",
       "      <td>2</td>\n",
       "      <td>Aston Villa</td>\n",
       "      <td>Hull</td>\n",
       "      <td>gabriel agbonlahor</td>\n",
       "      <td>andreas weimann</td>\n",
       "      <td>NaN</td>\n",
       "      <td>NaN</td>\n",
       "      <td>4.0</td>\n",
       "      <td>1.0</td>\n",
       "      <td>0</td>\n",
       "      <td>3.0</td>\n",
       "      <td>2.0</td>\n",
       "      <td>1</td>\n",
       "      <td>1.0</td>\n",
       "      <td>0</td>\n",
       "      <td>england</td>\n",
       "      <td>05-10-2013</td>\n",
       "      <td>andreas weimann-gabriel agbonlahor</td>\n",
       "      <td>11</td>\n",
       "      <td>1</td>\n",
       "    </tr>\n",
       "  </tbody>\n",
       "</table>\n",
       "</div>"
      ],
      "text/plain": [
       "          id_odsp    id_event  sort_order  time                                               text  event_type  event_type2  side   event_team     opponent              player             player2 player_in player_out  shot_place  shot_outcome  is_goal  location  bodypart  assist_method  situation  fast_break  country        date                  player_pair_sorted  player_pair_count  positive_assist\n",
       "330967  foAjBseC/   foAjBseC4           4     5  Attempt blocked. Libor Kozak (Aston Villa) rig...           1         12.0     2  Aston Villa         Hull         libor kozak  gabriel agbonlahor       NaN        NaN         2.0           3.0        0      15.0       1.0              1        1.0           0  england  05-10-2013      gabriel agbonlahor-libor kozak                  2                0\n",
       "330970  foAjBseC/   foAjBseC7           7     9  Attempt blocked. Gabriel Agbonlahor (Aston Vil...           1         12.0     2  Aston Villa         Hull  gabriel agbonlahor        fabian delph       NaN        NaN         2.0           3.0        0      15.0       2.0              1        1.0           0  england  05-10-2013     fabian delph-gabriel agbonlahor                 19                1\n",
       "330973  foAjBseC/  foAjBseC10          10    13  Attempt missed. Gabriel Agbonlahor (Aston Vill...           1         12.0     2  Aston Villa         Hull  gabriel agbonlahor     karim el ahmadi       NaN        NaN         6.0           2.0        0      15.0       1.0              1        1.0           0  england  05-10-2013  gabriel agbonlahor-karim el ahmadi                  6                1\n",
       "330978  foAjBseC/  foAjBseC15          15    18  Attempt missed. Danny Graham (Hull City) left ...           1         12.0     1         Hull  Aston Villa        danny graham    ahmed elmohamady       NaN        NaN         8.0           2.0        0       3.0       2.0              2        1.0           0  england  05-10-2013       ahmed elmohamady-danny graham                  3                0\n",
       "330979  foAjBseC/  foAjBseC16          16    20  Attempt saved. Gabriel Agbonlahor (Aston Villa...           1         12.0     2  Aston Villa         Hull  gabriel agbonlahor     andreas weimann       NaN        NaN         4.0           1.0        0       3.0       2.0              1        1.0           0  england  05-10-2013  andreas weimann-gabriel agbonlahor                 11                1"
      ]
     },
     "execution_count": 15,
     "metadata": {},
     "output_type": "execute_result"
    }
   ],
   "source": [
    "assists['positive_assist'] = assists['player_pair_count'].map(lambda x: 1 if x > 5 else 0)\n",
    "assists.head()\n"
   ]
  },
  {
   "cell_type": "code",
   "execution_count": 16,
   "metadata": {},
   "outputs": [],
   "source": [
    "#assists['aggressive_assist'] = assists.groupby(['id_odsp', 'player_pair_sorted'])['player_pair_sorted'].transform('count')\n",
    "#assists['aggressive_assist'] = assists['aggressive_assist'].apply(lambda x: 1 if x > 1 else 0)\n",
    "#assists.head()"
   ]
  },
  {
   "cell_type": "code",
   "execution_count": 17,
   "metadata": {},
   "outputs": [],
   "source": [
    "#player_goal_dict = assists.groupby('player_pair_sorted')['aggressive_assist'].max().to_dict()\n",
    "#assists['positive_assist_new'] = assists['player_pair_sorted'].map(player_goal_dict)\n",
    "#assists.head()"
   ]
  },
  {
   "cell_type": "code",
   "execution_count": null,
   "metadata": {},
   "outputs": [],
   "source": []
  },
  {
   "cell_type": "code",
   "execution_count": 18,
   "metadata": {},
   "outputs": [],
   "source": [
    "#Use Label Encoder module to change the string (player names, team names) to labels/numbers\n",
    "from sklearn.preprocessing import LabelEncoder\n",
    "def df_encoder(df):\n",
    "    columnsToEncode = list(df.select_dtypes(include=['category','object']))\n",
    "    label_encoder = LabelEncoder()\n",
    "    for feature in columnsToEncode:\n",
    "        try:\n",
    "            df[feature] = label_encoder.fit_transform(df[feature])\n",
    "        except:\n",
    "            print('Unable to encode :', feature)\n",
    "    return df"
   ]
  },
  {
   "cell_type": "code",
   "execution_count": 19,
   "metadata": {},
   "outputs": [],
   "source": [
    "#call labelencoder function to encode the string values\n",
    "#substitution_df_modified = assists"
   ]
  },
  {
   "cell_type": "code",
   "execution_count": null,
   "metadata": {},
   "outputs": [],
   "source": []
  },
  {
   "cell_type": "code",
   "execution_count": 20,
   "metadata": {},
   "outputs": [],
   "source": [
    "substitution_df_modified = assists\n",
    "substitution_df_modified=substitution_df_modified.dropna(subset=['player_pair_sorted','player_pair_count'])\n",
    "substitution_df_modified.drop(['text', 'id_event', 'sort_order', 'time', 'event_type', 'event_type2', 'side', 'player_in',\n",
    "                      'player_out', 'player', 'player2', 'shot_place', 'shot_outcome', 'is_goal', 'location', 'bodypart',\n",
    "                      'situation', 'fast_break','date','country'], axis=1, inplace=True)\n",
    "substitution_df_modified.head()\n",
    "substitution_df_modified_new = df_encoder(substitution_df_modified)\n",
    "substitution_df_modified = substitution_df_modified_new"
   ]
  },
  {
   "cell_type": "markdown",
   "metadata": {
    "_cell_guid": "fe31d486-724e-46bf-8ae7-2891e4d35206",
    "_uuid": "d246137a936547d6014ebad31c220ed247103cfb"
   },
   "source": [
    "# 5. Machine learning models to predict assists"
   ]
  },
  {
   "cell_type": "markdown",
   "metadata": {
    "_cell_guid": "f2be380b-2cb4-431a-ad8d-bfea5594564f",
    "_uuid": "de55f473e08405421245d73ee9b3bbfa23087367"
   },
   "source": [
    "**import sklearn modules.**"
   ]
  },
  {
   "cell_type": "code",
   "execution_count": 21,
   "metadata": {
    "_cell_guid": "67b2375e-af9e-4ece-b7d4-e896b270a13e",
    "_uuid": "8e89b0d65aa8e47693005fafecb2b4b939055609",
    "jupyter": {
     "outputs_hidden": true
    },
    "scrolled": true
   },
   "outputs": [],
   "source": [
    "from sklearn.pipeline import make_pipeline\n",
    "from sklearn.ensemble import RandomForestClassifier, GradientBoostingClassifier\n",
    "from sklearn.feature_selection import SelectKBest, SelectFromModel\n",
    "from sklearn.model_selection import StratifiedKFold, GridSearchCV, cross_val_score, train_test_split, KFold\n",
    "from sklearn.linear_model import LogisticRegression\n",
    "from sklearn import svm\n",
    "from sklearn.svm import SVC, LinearSVC\n",
    "from sklearn.neighbors import KNeighborsClassifier\n",
    "from sklearn.tree import DecisionTreeClassifier\n",
    "from sklearn.naive_bayes import MultinomialNB\n",
    "from sklearn.metrics import accuracy_score, confusion_matrix"
   ]
  },
  {
   "cell_type": "code",
   "execution_count": 22,
   "metadata": {
    "_cell_guid": "fc58306e-a0eb-465f-8019-041f85384bb3",
    "_uuid": "9146c16b9330a73a12304ca78fc79167ac39a18c",
    "jupyter": {
     "outputs_hidden": true
    },
    "scrolled": false
   },
   "outputs": [
    {
     "data": {
      "text/html": [
       "<div>\n",
       "<style scoped>\n",
       "    .dataframe tbody tr th:only-of-type {\n",
       "        vertical-align: middle;\n",
       "    }\n",
       "\n",
       "    .dataframe tbody tr th {\n",
       "        vertical-align: top;\n",
       "    }\n",
       "\n",
       "    .dataframe thead th {\n",
       "        text-align: right;\n",
       "    }\n",
       "</style>\n",
       "<table border=\"1\" class=\"dataframe\">\n",
       "  <thead>\n",
       "    <tr style=\"text-align: right;\">\n",
       "      <th></th>\n",
       "      <th>id_odsp</th>\n",
       "      <th>event_team</th>\n",
       "      <th>opponent</th>\n",
       "      <th>assist_method</th>\n",
       "      <th>player_pair_sorted</th>\n",
       "      <th>player_pair_count</th>\n",
       "    </tr>\n",
       "  </thead>\n",
       "  <tbody>\n",
       "    <tr>\n",
       "      <th>940658</th>\n",
       "      <td>1229</td>\n",
       "      <td>5</td>\n",
       "      <td>9</td>\n",
       "      <td>1</td>\n",
       "      <td>2771</td>\n",
       "      <td>9</td>\n",
       "    </tr>\n",
       "    <tr>\n",
       "      <th>940665</th>\n",
       "      <td>1229</td>\n",
       "      <td>9</td>\n",
       "      <td>5</td>\n",
       "      <td>3</td>\n",
       "      <td>101</td>\n",
       "      <td>2</td>\n",
       "    </tr>\n",
       "    <tr>\n",
       "      <th>940681</th>\n",
       "      <td>1229</td>\n",
       "      <td>5</td>\n",
       "      <td>9</td>\n",
       "      <td>2</td>\n",
       "      <td>1766</td>\n",
       "      <td>14</td>\n",
       "    </tr>\n",
       "    <tr>\n",
       "      <th>940682</th>\n",
       "      <td>1229</td>\n",
       "      <td>5</td>\n",
       "      <td>9</td>\n",
       "      <td>4</td>\n",
       "      <td>1762</td>\n",
       "      <td>48</td>\n",
       "    </tr>\n",
       "    <tr>\n",
       "      <th>940689</th>\n",
       "      <td>1229</td>\n",
       "      <td>9</td>\n",
       "      <td>5</td>\n",
       "      <td>1</td>\n",
       "      <td>5797</td>\n",
       "      <td>1</td>\n",
       "    </tr>\n",
       "  </tbody>\n",
       "</table>\n",
       "</div>"
      ],
      "text/plain": [
       "        id_odsp  event_team  opponent  assist_method  player_pair_sorted  player_pair_count\n",
       "940658     1229           5         9              1                2771                  9\n",
       "940665     1229           9         5              3                 101                  2\n",
       "940681     1229           5         9              2                1766                 14\n",
       "940682     1229           5         9              4                1762                 48\n",
       "940689     1229           9         5              1                5797                  1"
      ]
     },
     "execution_count": 22,
     "metadata": {},
     "output_type": "execute_result"
    }
   ],
   "source": [
    "#Split the X and Y dataframes\n",
    "x_var=substitution_df_modified.iloc[:,0:-1]\n",
    "y=substitution_df_modified['positive_assist'].tolist()\n",
    "x_var.tail()"
   ]
  },
  {
   "cell_type": "code",
   "execution_count": 23,
   "metadata": {},
   "outputs": [],
   "source": [
    "#split the test and train values 80%, 20% split\n",
    "x_train,x_test,y_train,y_test=train_test_split(x_var,y,test_size=0.2,random_state=0)"
   ]
  },
  {
   "cell_type": "code",
   "execution_count": 24,
   "metadata": {},
   "outputs": [],
   "source": [
    "#x_test"
   ]
  },
  {
   "cell_type": "code",
   "execution_count": 25,
   "metadata": {},
   "outputs": [],
   "source": [
    "#y_test"
   ]
  },
  {
   "cell_type": "code",
   "execution_count": 26,
   "metadata": {
    "_cell_guid": "5989623b-858f-47d5-9721-0d86e523da54",
    "_uuid": "16b1d3a6c2c14e036857accd309e1a7acc950cc2",
    "jupyter": {
     "outputs_hidden": true
    }
   },
   "outputs": [],
   "source": [
    "k_fold = KFold(n_splits=10, shuffle=True, random_state=0)"
   ]
  },
  {
   "cell_type": "markdown",
   "metadata": {
    "_cell_guid": "3d484c98-af1b-443a-bc8f-920b0ac509de",
    "_uuid": "982b58b132c1fd8e2ff7267f86a9ab4c42d8addc"
   },
   "source": [
    "**Test accuracy of models.**"
   ]
  },
  {
   "cell_type": "code",
   "execution_count": 27,
   "metadata": {
    "_cell_guid": "f72ed2c5-a13f-42c3-aa25-9ffa6fd746f7",
    "_uuid": "eaf8080e0ba88b2cc9b2638ba419797c93b24f42",
    "jupyter": {
     "outputs_hidden": true
    }
   },
   "outputs": [],
   "source": [
    "def acc_score(ml_model):\n",
    "    return np.mean(cross_val_score(ml_model, x_train, y_train, cv=k_fold, scoring=\"accuracy\"))"
   ]
  },
  {
   "cell_type": "code",
   "execution_count": 28,
   "metadata": {
    "_cell_guid": "ad95b26f-011f-4f2b-829f-13988d5d4b6d",
    "_uuid": "1dd80eb04e486f524e4577f86b657e9c0d4b920b",
    "jupyter": {
     "outputs_hidden": true
    }
   },
   "outputs": [],
   "source": [
    "from sklearn.metrics import accuracy_score\n",
    "def norm_score(ml_model):\n",
    "    return (accuracy_score(y_train, ml_model.predict(x_train)))"
   ]
  },
  {
   "cell_type": "markdown",
   "metadata": {
    "_cell_guid": "ba59ed02-f653-4f64-a104-0653850a82eb",
    "_uuid": "873b167eeccf89c1f5699bd1abcd1b3e3b65bb46"
   },
   "source": [
    "**Function to get confusion matrix for each model.**"
   ]
  },
  {
   "cell_type": "code",
   "execution_count": 29,
   "metadata": {
    "_cell_guid": "5239e915-24b5-4d16-a793-092836f92aa2",
    "_uuid": "23ebb769bd303e52aa3219d93b1eeda0a205b1d4",
    "jupyter": {
     "outputs_hidden": true
    }
   },
   "outputs": [],
   "source": [
    "from sklearn.metrics import confusion_matrix\n",
    "def confusion_matrix_model(model_used):\n",
    "    con_matrix=confusion_matrix(y_train, model_used.predict(x_train))\n",
    "    con_matrix=pd.DataFrame(con_matrix)\n",
    "    con_matrix.columns=[\"Expected Positive Substitution\", \"Expected Negative Substitution\"]\n",
    "    con_matrix.index=[\"Actual Positive Substitution\", \"Actual Negative Substitution\"]\n",
    "    return con_matrix"
   ]
  },
  {
   "cell_type": "markdown",
   "metadata": {
    "_cell_guid": "5b94ab43-4a3e-4ed3-a824-b97c9e81fa8b",
    "_uuid": "db34956221bd0ca034678af1766e8cb2a71cd873"
   },
   "source": [
    "**Logistic Regression**"
   ]
  },
  {
   "cell_type": "code",
   "execution_count": 30,
   "metadata": {
    "_cell_guid": "ce805ebb-2d21-41c6-9c86-02fb604296c5",
    "_uuid": "e30e40dd83751a4d1645100a0c379c7277b04a4f",
    "jupyter": {
     "outputs_hidden": true
    },
    "scrolled": false
   },
   "outputs": [
    {
     "name": "stdout",
     "output_type": "stream",
     "text": [
      "Logistic Regression Accuracy (without Cross Validation): 0.9580111045012889\n",
      "Logistic Regression Accuracy (with Cross Validation): 0.9435355474502408\n"
     ]
    },
    {
     "data": {
      "text/html": [
       "<div>\n",
       "<style scoped>\n",
       "    .dataframe tbody tr th:only-of-type {\n",
       "        vertical-align: middle;\n",
       "    }\n",
       "\n",
       "    .dataframe tbody tr th {\n",
       "        vertical-align: top;\n",
       "    }\n",
       "\n",
       "    .dataframe thead th {\n",
       "        text-align: right;\n",
       "    }\n",
       "</style>\n",
       "<table border=\"1\" class=\"dataframe\">\n",
       "  <thead>\n",
       "    <tr style=\"text-align: right;\">\n",
       "      <th></th>\n",
       "      <th>Expected Positive Substitution</th>\n",
       "      <th>Expected Negative Substitution</th>\n",
       "    </tr>\n",
       "  </thead>\n",
       "  <tbody>\n",
       "    <tr>\n",
       "      <th>Actual Positive Substitution</th>\n",
       "      <td>7705</td>\n",
       "      <td>453</td>\n",
       "    </tr>\n",
       "    <tr>\n",
       "      <th>Actual Negative Substitution</th>\n",
       "      <td>394</td>\n",
       "      <td>11620</td>\n",
       "    </tr>\n",
       "  </tbody>\n",
       "</table>\n",
       "</div>"
      ],
      "text/plain": [
       "                              Expected Positive Substitution  Expected Negative Substitution\n",
       "Actual Positive Substitution                            7705                             453\n",
       "Actual Negative Substitution                             394                           11620"
      ]
     },
     "execution_count": 30,
     "metadata": {},
     "output_type": "execute_result"
    }
   ],
   "source": [
    "logistic_reg=LogisticRegression()\n",
    "logistic_reg.fit(x_train,y_train)\n",
    "print(\"Logistic Regression Accuracy (without Cross Validation): \"+str(norm_score(logistic_reg)))\n",
    "print(\"Logistic Regression Accuracy (with Cross Validation): \"+str(acc_score(logistic_reg)))\n",
    "confusion_matrix_model(logistic_reg)"
   ]
  },
  {
   "cell_type": "code",
   "execution_count": 31,
   "metadata": {},
   "outputs": [
    {
     "name": "stdout",
     "output_type": "stream",
     "text": [
      "score : 0.9520222045995241\n"
     ]
    },
    {
     "data": {
      "image/png": "[encoded data removed]",
      "text/plain": [
       "<Figure size 288x288 with 2 Axes>"
      ]
     },
     "metadata": {},
     "output_type": "display_data"
    }
   ],
   "source": [
    "from sklearn import metrics\n",
    "score = logistic_reg.score(x_test, y_test)\n",
    "print(\"score :\", score)\n",
    "predictions = logistic_reg.predict(x_test)\n",
    "cm = metrics.confusion_matrix(y_test, predictions)\n",
    "\n",
    "plt.figure(figsize=(4,4))\n",
    "sns.heatmap(cm, annot=True, fmt=\".3f\", linewidths=.5, square = True, cmap = 'Blues_r');\n",
    "plt.ylabel('Actual Substitution');\n",
    "plt.xlabel('Predicted Substitution');\n",
    "all_sample_title = 'Accuracy Score: {0}\\n'.format(score)\n",
    "plt.title(all_sample_title, size = 15);"
   ]
  },
  {
   "cell_type": "markdown",
   "metadata": {
    "_cell_guid": "e80126ab-053a-4a4c-b2f1-34326935ca45",
    "_uuid": "a76ed01bbc4e754e31832c14122436e7238709d3"
   },
   "source": [
    "**K-Nearest Neighbour Regression**"
   ]
  },
  {
   "cell_type": "code",
   "execution_count": 32,
   "metadata": {
    "_cell_guid": "b7868881-42a2-4d17-9807-257ad097102b",
    "_uuid": "1f6d08f8d4fe977598304d4641ed74c169f660de",
    "jupyter": {
     "outputs_hidden": true
    }
   },
   "outputs": [
    {
     "name": "stdout",
     "output_type": "stream",
     "text": [
      "KNN Regression Accuracy (without cross validation): 1.0\n",
      "KNN Regression Accuracy (with cross validation): 0.7907000112522253\n"
     ]
    },
    {
     "data": {
      "text/html": [
       "<div>\n",
       "<style scoped>\n",
       "    .dataframe tbody tr th:only-of-type {\n",
       "        vertical-align: middle;\n",
       "    }\n",
       "\n",
       "    .dataframe tbody tr th {\n",
       "        vertical-align: top;\n",
       "    }\n",
       "\n",
       "    .dataframe thead th {\n",
       "        text-align: right;\n",
       "    }\n",
       "</style>\n",
       "<table border=\"1\" class=\"dataframe\">\n",
       "  <thead>\n",
       "    <tr style=\"text-align: right;\">\n",
       "      <th></th>\n",
       "      <th>Expected Positive Substitution</th>\n",
       "      <th>Expected Negative Substitution</th>\n",
       "    </tr>\n",
       "  </thead>\n",
       "  <tbody>\n",
       "    <tr>\n",
       "      <th>Actual Positive Substitution</th>\n",
       "      <td>8158</td>\n",
       "      <td>0</td>\n",
       "    </tr>\n",
       "    <tr>\n",
       "      <th>Actual Negative Substitution</th>\n",
       "      <td>0</td>\n",
       "      <td>12014</td>\n",
       "    </tr>\n",
       "  </tbody>\n",
       "</table>\n",
       "</div>"
      ],
      "text/plain": [
       "                              Expected Positive Substitution  Expected Negative Substitution\n",
       "Actual Positive Substitution                            8158                               0\n",
       "Actual Negative Substitution                               0                           12014"
      ]
     },
     "execution_count": 32,
     "metadata": {},
     "output_type": "execute_result"
    }
   ],
   "source": [
    "k_neighbour_classifier=KNeighborsClassifier(n_neighbors=10, weights='distance', algorithm='ball_tree', p=1, metric='minkowski')\n",
    "k_neighbour_classifier.fit(x_train,y_train)\n",
    "print(\"KNN Regression Accuracy (without cross validation): \"+str(norm_score(k_neighbour_classifier)))\n",
    "print(\"KNN Regression Accuracy (with cross validation): \"+str(acc_score(k_neighbour_classifier)))\n",
    "confusion_matrix_model(k_neighbour_classifier)"
   ]
  },
  {
   "cell_type": "code",
   "execution_count": 33,
   "metadata": {},
   "outputs": [
    {
     "name": "stdout",
     "output_type": "stream",
     "text": [
      "score : 0.792823156225218\n"
     ]
    },
    {
     "data": {
      "image/png": "[encoded data removed]",
      "text/plain": [
       "<Figure size 288x288 with 2 Axes>"
      ]
     },
     "metadata": {},
     "output_type": "display_data"
    }
   ],
   "source": [
    "score = k_neighbour_classifier.score(x_test, y_test)\n",
    "print(\"score :\", score)\n",
    "predictions = k_neighbour_classifier.predict(x_test)\n",
    "cm = metrics.confusion_matrix(y_test, predictions)\n",
    "\n",
    "plt.figure(figsize=(4,4))\n",
    "sns.heatmap(cm, annot=True, fmt=\".3f\", linewidths=.5, square = True, cmap = 'Blues_r');\n",
    "plt.ylabel('Actual Substitution');\n",
    "plt.xlabel('Predicted Substitution');\n",
    "all_sample_title = 'Accuracy Score: {0}\\n'.format(score)\n",
    "plt.title(all_sample_title, size = 15);"
   ]
  },
  {
   "cell_type": "markdown",
   "metadata": {
    "_cell_guid": "5422ebe9-3a49-4471-b5e8-8cdc628313f3",
    "_uuid": "4323b39f12f7b150f11a5e20d071337bc39af675"
   },
   "source": [
    "**Support Vector Machine**"
   ]
  },
  {
   "cell_type": "code",
   "execution_count": 34,
   "metadata": {
    "_cell_guid": "d649d5a4-303d-429f-a889-05326b24730b",
    "_uuid": "7332d7e3ece3ba672185c9d5c3a87092bccda32d",
    "jupyter": {
     "outputs_hidden": true
    },
    "scrolled": false
   },
   "outputs": [
    {
     "name": "stdout",
     "output_type": "stream",
     "text": [
      "SVM Regression Accuracy (without cross validation): 1.0\n"
     ]
    },
    {
     "data": {
      "text/html": [
       "<div>\n",
       "<style scoped>\n",
       "    .dataframe tbody tr th:only-of-type {\n",
       "        vertical-align: middle;\n",
       "    }\n",
       "\n",
       "    .dataframe tbody tr th {\n",
       "        vertical-align: top;\n",
       "    }\n",
       "\n",
       "    .dataframe thead th {\n",
       "        text-align: right;\n",
       "    }\n",
       "</style>\n",
       "<table border=\"1\" class=\"dataframe\">\n",
       "  <thead>\n",
       "    <tr style=\"text-align: right;\">\n",
       "      <th></th>\n",
       "      <th>Expected Positive Substitution</th>\n",
       "      <th>Expected Negative Substitution</th>\n",
       "    </tr>\n",
       "  </thead>\n",
       "  <tbody>\n",
       "    <tr>\n",
       "      <th>Actual Positive Substitution</th>\n",
       "      <td>8158</td>\n",
       "      <td>0</td>\n",
       "    </tr>\n",
       "    <tr>\n",
       "      <th>Actual Negative Substitution</th>\n",
       "      <td>0</td>\n",
       "      <td>12014</td>\n",
       "    </tr>\n",
       "  </tbody>\n",
       "</table>\n",
       "</div>"
      ],
      "text/plain": [
       "                              Expected Positive Substitution  Expected Negative Substitution\n",
       "Actual Positive Substitution                            8158                               0\n",
       "Actual Negative Substitution                               0                           12014"
      ]
     },
     "execution_count": 34,
     "metadata": {},
     "output_type": "execute_result"
    }
   ],
   "source": [
    "svm_reg=svm.SVC(kernel='linear')\n",
    "svm_reg.fit(x_train,y_train)\n",
    "print(\"SVM Regression Accuracy (without cross validation): \"+str(norm_score(svm_reg)))\n",
    "#print(\"SVM Regression Accuracy (with cross validation): \"+str(acc_score(svm_reg)))\n",
    "confusion_matrix_model(svm_reg)"
   ]
  },
  {
   "cell_type": "code",
   "execution_count": 35,
   "metadata": {
    "scrolled": false
   },
   "outputs": [
    {
     "name": "stdout",
     "output_type": "stream",
     "text": [
      "score : 1.0\n"
     ]
    },
    {
     "data": {
      "image/png": "[encoded data removed]",
      "text/plain": [
       "<Figure size 216x216 with 2 Axes>"
      ]
     },
     "metadata": {},
     "output_type": "display_data"
    }
   ],
   "source": [
    "score = svm_reg.score(x_test, y_test)\n",
    "print(\"score :\", score)\n",
    "predictions = svm_reg.predict(x_test)\n",
    "cm = metrics.confusion_matrix(y_test, predictions)\n",
    "\n",
    "plt.figure(figsize=(3,3))\n",
    "sns.heatmap(cm, annot=True, fmt=\".3f\", linewidths=.5, square = True, cmap = 'Blues_r');\n",
    "plt.ylabel('Actual Substitution');\n",
    "plt.xlabel('Predicted Substitution');\n",
    "all_sample_title = 'Accuracy Score: {0}\\n'.format(score)\n",
    "plt.title(all_sample_title, size = 15);"
   ]
  },
  {
   "cell_type": "markdown",
   "metadata": {
    "_cell_guid": "76cf4023-e518-44ef-86a0-b6456fe64501",
    "_uuid": "98eb86e55b704f1b70132ee3a817c5dd5cb09bb6"
   },
   "source": [
    "**Multinomial Naive Bayes**"
   ]
  },
  {
   "cell_type": "code",
   "execution_count": 36,
   "metadata": {},
   "outputs": [
    {
     "name": "stdout",
     "output_type": "stream",
     "text": [
      "Multinomial Naive Bayes Regression Accuracy (without cross validation): 0.7930795161610152\n",
      "Multinomial Naive Bayes Regression Accuracy (with cross validation): 0.7923339670285231\n"
     ]
    },
    {
     "data": {
      "text/html": [
       "<div>\n",
       "<style scoped>\n",
       "    .dataframe tbody tr th:only-of-type {\n",
       "        vertical-align: middle;\n",
       "    }\n",
       "\n",
       "    .dataframe tbody tr th {\n",
       "        vertical-align: top;\n",
       "    }\n",
       "\n",
       "    .dataframe thead th {\n",
       "        text-align: right;\n",
       "    }\n",
       "</style>\n",
       "<table border=\"1\" class=\"dataframe\">\n",
       "  <thead>\n",
       "    <tr style=\"text-align: right;\">\n",
       "      <th></th>\n",
       "      <th>Expected Positive Substitution</th>\n",
       "      <th>Expected Negative Substitution</th>\n",
       "    </tr>\n",
       "  </thead>\n",
       "  <tbody>\n",
       "    <tr>\n",
       "      <th>Actual Positive Substitution</th>\n",
       "      <td>6762</td>\n",
       "      <td>1396</td>\n",
       "    </tr>\n",
       "    <tr>\n",
       "      <th>Actual Negative Substitution</th>\n",
       "      <td>2778</td>\n",
       "      <td>9236</td>\n",
       "    </tr>\n",
       "  </tbody>\n",
       "</table>\n",
       "</div>"
      ],
      "text/plain": [
       "                              Expected Positive Substitution  Expected Negative Substitution\n",
       "Actual Positive Substitution                            6762                            1396\n",
       "Actual Negative Substitution                            2778                            9236"
      ]
     },
     "execution_count": 36,
     "metadata": {},
     "output_type": "execute_result"
    }
   ],
   "source": [
    "naive_bayes=MultinomialNB()\n",
    "naive_bayes.fit(x_train,y_train)\n",
    "print(\"Multinomial Naive Bayes Regression Accuracy (without cross validation): \"+str(norm_score(naive_bayes)))\n",
    "print(\"Multinomial Naive Bayes Regression Accuracy (with cross validation): \"+str(acc_score(naive_bayes)))\n",
    "confusion_matrix_model(naive_bayes)"
   ]
  },
  {
   "cell_type": "code",
   "execution_count": 37,
   "metadata": {},
   "outputs": [
    {
     "name": "stdout",
     "output_type": "stream",
     "text": [
      "score : 0.7910388580491673\n"
     ]
    },
    {
     "data": {
      "image/png": "[encoded data removed]",
      "text/plain": [
       "<Figure size 216x216 with 2 Axes>"
      ]
     },
     "metadata": {},
     "output_type": "display_data"
    }
   ],
   "source": [
    "score = naive_bayes.score(x_test, y_test)\n",
    "print(\"score :\", score)\n",
    "predictions = naive_bayes.predict(x_test)\n",
    "cm = metrics.confusion_matrix(y_test, predictions)\n",
    "\n",
    "plt.figure(figsize=(3,3))\n",
    "sns.heatmap(cm, annot=True, fmt=\".3f\", linewidths=.5, square = True, cmap = 'Blues_r');\n",
    "plt.ylabel('Actual Substitution');\n",
    "plt.xlabel('Predicted Substitution');\n",
    "all_sample_title = 'Accuracy Score: {0}\\n'.format(score)\n",
    "plt.title(all_sample_title, size = 15);"
   ]
  },
  {
   "cell_type": "markdown",
   "metadata": {
    "_cell_guid": "8564ac31-02d5-479d-8d3c-f19ccfee199d",
    "_uuid": "327c139f00bc96c0f9d1d87c36c0a32934cc4f0b"
   },
   "source": []
  },
  {
   "cell_type": "markdown",
   "metadata": {
    "_cell_guid": "e80126ab-053a-4a4c-b2f1-34326935ca45",
    "_uuid": "a76ed01bbc4e754e31832c14122436e7238709d3"
   },
   "source": [
    "**Random Forest Classifier**"
   ]
  },
  {
   "cell_type": "code",
   "execution_count": 38,
   "metadata": {},
   "outputs": [
    {
     "name": "stdout",
     "output_type": "stream",
     "text": [
      "ACCURACY OF THE MODEL:  1.0\n"
     ]
    },
    {
     "data": {
      "image/png": "[encoded data removed]",
      "text/plain": [
       "<Figure size 216x216 with 2 Axes>"
      ]
     },
     "metadata": {},
     "output_type": "display_data"
    }
   ],
   "source": [
    "from sklearn.ensemble import RandomForestClassifier\n",
    "clf = RandomForestClassifier(n_estimators = 200) \n",
    "clf.fit(x_train, y_train)\n",
    "y_pred = clf.predict(x_test)\n",
    "print(\"ACCURACY OF THE MODEL: \", metrics.accuracy_score(y_test, y_pred))\n",
    "cm = metrics.confusion_matrix(y_test, y_pred)\n",
    "\n",
    "score = clf.score(x_test, y_test)\n",
    "plt.figure(figsize=(3,3))\n",
    "sns.heatmap(cm, annot=True, fmt=\".3f\", linewidths=.5, square = True, cmap = 'Blues_r');\n",
    "plt.ylabel('Actual Substitution');\n",
    "plt.xlabel('Predicted Substitution');\n",
    "all_sample_title = 'Accuracy Score: {0}\\n'.format(score)\n",
    "plt.title(all_sample_title, size = 15);"
   ]
  },
  {
   "cell_type": "code",
   "execution_count": null,
   "metadata": {},
   "outputs": [],
   "source": []
  },
  {
   "cell_type": "markdown",
   "metadata": {
    "_cell_guid": "a00345a3-091a-46a6-91e9-13eeff3a51c6",
    "_uuid": "6e341e9bb091ab58669b2f05c8bf4310322e33f9"
   },
   "source": [
    "#### **Decision Tree Regression**"
   ]
  },
  {
   "cell_type": "code",
   "execution_count": null,
   "metadata": {},
   "outputs": [],
   "source": []
  },
  {
   "cell_type": "code",
   "execution_count": 39,
   "metadata": {
    "_cell_guid": "e17f0ba8-6061-447e-9d9b-d23db2273282",
    "_uuid": "0df669913310bf365a94479c4eadda9333164cec",
    "jupyter": {
     "outputs_hidden": true
    }
   },
   "outputs": [
    {
     "name": "stdout",
     "output_type": "stream",
     "text": [
      "Decision Tree Regression Accuracy (without cross validation): 1.0\n",
      "Decision Tree Regression Accuracy (with cross validation): 1.0\n"
     ]
    },
    {
     "data": {
      "text/html": [
       "<div>\n",
       "<style scoped>\n",
       "    .dataframe tbody tr th:only-of-type {\n",
       "        vertical-align: middle;\n",
       "    }\n",
       "\n",
       "    .dataframe tbody tr th {\n",
       "        vertical-align: top;\n",
       "    }\n",
       "\n",
       "    .dataframe thead th {\n",
       "        text-align: right;\n",
       "    }\n",
       "</style>\n",
       "<table border=\"1\" class=\"dataframe\">\n",
       "  <thead>\n",
       "    <tr style=\"text-align: right;\">\n",
       "      <th></th>\n",
       "      <th>Expected Positive Substitution</th>\n",
       "      <th>Expected Negative Substitution</th>\n",
       "    </tr>\n",
       "  </thead>\n",
       "  <tbody>\n",
       "    <tr>\n",
       "      <th>Actual Positive Substitution</th>\n",
       "      <td>8158</td>\n",
       "      <td>0</td>\n",
       "    </tr>\n",
       "    <tr>\n",
       "      <th>Actual Negative Substitution</th>\n",
       "      <td>0</td>\n",
       "      <td>12014</td>\n",
       "    </tr>\n",
       "  </tbody>\n",
       "</table>\n",
       "</div>"
      ],
      "text/plain": [
       "                              Expected Positive Substitution  Expected Negative Substitution\n",
       "Actual Positive Substitution                            8158                               0\n",
       "Actual Negative Substitution                               0                           12014"
      ]
     },
     "execution_count": 39,
     "metadata": {},
     "output_type": "execute_result"
    }
   ],
   "source": [
    "decision_tree=DecisionTreeClassifier()\n",
    "decision_tree.fit(x_train,y_train)\n",
    "print(\"Decision Tree Regression Accuracy (without cross validation): \"+str(norm_score(decision_tree)))\n",
    "print(\"Decision Tree Regression Accuracy (with cross validation): \"+str(acc_score(decision_tree)))\n",
    "confusion_matrix_model(decision_tree)\n"
   ]
  },
  {
   "cell_type": "code",
   "execution_count": 40,
   "metadata": {},
   "outputs": [
    {
     "name": "stdout",
     "output_type": "stream",
     "text": [
      "score : 1.0\n"
     ]
    },
    {
     "data": {
      "image/png": "[encoded data removed]",
      "text/plain": [
       "<Figure size 288x288 with 2 Axes>"
      ]
     },
     "metadata": {},
     "output_type": "display_data"
    }
   ],
   "source": [
    "score = decision_tree.score(x_test, y_test)\n",
    "print(\"score :\", score)\n",
    "predictions = decision_tree.predict(x_test)\n",
    "cm = metrics.confusion_matrix(y_test, predictions)\n",
    "\n",
    "plt.figure(figsize=(4,4))\n",
    "sns.heatmap(cm, annot=True, fmt=\".3f\", linewidths=.5, square = True, cmap = 'Blues_r');\n",
    "plt.ylabel('Actual Substitution');\n",
    "plt.xlabel('Predicted Substitution');\n",
    "all_sample_title = 'Accuracy Score: {0}\\n'.format(score)\n",
    "plt.title(all_sample_title, size = 15);"
   ]
  }
 ],
 "metadata": {
  "kernelspec": {
   "display_name": "Python 3 (ipykernel)",
   "language": "python",
   "name": "python3"
  },
  "language_info": {
   "codemirror_mode": {
    "name": "ipython",
    "version": 3
   },
   "file_extension": ".py",
   "mimetype": "text/x-python",
   "name": "python",
   "nbconvert_exporter": "python",
   "pygments_lexer": "ipython3",
   "version": "3.10.4"
  }
 },
 "nbformat": 4,
 "nbformat_minor": 4
}
